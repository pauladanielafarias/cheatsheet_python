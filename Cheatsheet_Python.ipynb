{
  "nbformat": 4,
  "nbformat_minor": 0,
  "metadata": {
    "colab": {
      "name": "Cheatsheet Python.ipynb",
      "provenance": [],
      "collapsed_sections": [
        "NxsFb16Nh4kc",
        "KfVJNxB1lK49",
        "N5UAAIk3j4RJ",
        "juETXeEukppx",
        "s7z4IX_9l-vc",
        "B1wvfs6hlfr2",
        "dIfyO09emnpf",
        "SUBm-Emqrfnq",
        "Lbc7DMu6K3Ve",
        "uRHGYN0Bg96V",
        "LS-yDmC7pH3C",
        "v5Ys1JBzpH3L"
      ],
      "toc_visible": true,
      "authorship_tag": "ABX9TyPYC5VrPuUvFo5Us9J52YJL",
      "include_colab_link": true
    },
    "kernelspec": {
      "name": "python3",
      "display_name": "Python 3"
    },
    "language_info": {
      "name": "python"
    }
  },
  "cells": [
    {
      "cell_type": "markdown",
      "metadata": {
        "id": "view-in-github",
        "colab_type": "text"
      },
      "source": [
        "<a href=\"https://colab.research.google.com/github/pauladanielafarias/cheatsheet_python/blob/master/Cheatsheet_Python.ipynb\" target=\"_parent\"><img src=\"https://colab.research.google.com/assets/colab-badge.svg\" alt=\"Open In Colab\"/></a>"
      ]
    },
    {
      "cell_type": "markdown",
      "source": [
        "# Installing Python\n",
        "---"
      ],
      "metadata": {
        "id": "NxsFb16Nh4kc"
      }
    },
    {
      "cell_type": "markdown",
      "source": [
        "1. Check if you have python installed in your PC and which version:\n",
        "\n",
        "  - Check for Python 2 (on CMD)\n",
        "`python --version`\n",
        "\n",
        "  - Check for Python 3 (on CMD)\n",
        "`python3 --version`\n",
        "\n",
        "\n",
        "2. If you don't have it installed, go to https://www.python.org/downloads/ and download the version you want for your OS.\n",
        "\n"
      ],
      "metadata": {
        "id": "i2zel3lqiDQZ"
      }
    },
    {
      "cell_type": "markdown",
      "source": [
        "# General\n",
        "---"
      ],
      "metadata": {
        "id": "KfVJNxB1lK49"
      }
    },
    {
      "cell_type": "markdown",
      "source": [
        "## Comments"
      ],
      "metadata": {
        "id": "N5UAAIk3j4RJ"
      }
    },
    {
      "cell_type": "code",
      "source": [
        "#This is a comment.\n",
        "\n",
        "'''\n",
        "This\n",
        "is a \n",
        "multiline comment\n",
        "'''"
      ],
      "metadata": {
        "id": "C0fs2kkEkBOS"
      },
      "execution_count": null,
      "outputs": []
    },
    {
      "cell_type": "markdown",
      "source": [
        "## Data Types"
      ],
      "metadata": {
        "id": "YRJRboT9t2p3"
      }
    },
    {
      "cell_type": "markdown",
      "source": [
        "Python has the following data types built-in by default, in these categories:\n",
        "\n",
        "- Text Type: `str`\n",
        "- Numeric Types: `int`, `float`, `complex`\n",
        "- Sequence Types:\t`list`, `tuple`, `range`\n",
        "- Mapping Type:\t`dict`\n",
        "- Set Types: `set`, `frozenset`\n",
        "- Boolean Type:\t`bool`\n",
        "- Binary Types:\t`bytes`, `bytearray`, `memoryview`"
      ],
      "metadata": {
        "id": "isSKcBrvuHtw"
      }
    },
    {
      "cell_type": "markdown",
      "source": [
        "### Get Type"
      ],
      "metadata": {
        "id": "juETXeEukppx"
      }
    },
    {
      "cell_type": "code",
      "source": [
        "num = 5\n",
        "name = \"John\"\n",
        "print(type(num))\n",
        "print(type(name))"
      ],
      "metadata": {
        "id": "WKmAygjikppz",
        "colab": {
          "base_uri": "https://localhost:8080/"
        },
        "outputId": "93836ef0-e2b5-4f6c-9819-bfdb8907a6af"
      },
      "execution_count": null,
      "outputs": [
        {
          "output_type": "stream",
          "name": "stdout",
          "text": [
            "<class 'int'>\n",
            "<class 'str'>\n"
          ]
        }
      ]
    },
    {
      "cell_type": "markdown",
      "source": [
        "### Casting"
      ],
      "metadata": {
        "id": "NY7KjSRdkgvE"
      }
    },
    {
      "cell_type": "code",
      "source": [
        "num_str = str(3)    # x will be '3'\n",
        "num_int = int(3)    # y will be 3\n",
        "num_float = float(3)  # z will be 3.0\n",
        "\n",
        "print(num_str)\n",
        "print(num_int)\n",
        "print(num_float)"
      ],
      "metadata": {
        "id": "ZLzy3mc7kgvG",
        "colab": {
          "base_uri": "https://localhost:8080/"
        },
        "outputId": "1f31f551-9e37-4d93-f35a-8d1489747e1f"
      },
      "execution_count": null,
      "outputs": [
        {
          "output_type": "stream",
          "name": "stdout",
          "text": [
            "3\n",
            "3\n",
            "3.0\n"
          ]
        }
      ]
    },
    {
      "cell_type": "markdown",
      "source": [
        "- **Note:** You cannot convert complex numbers into another number type."
      ],
      "metadata": {
        "id": "biJTPOTSKaTp"
      }
    },
    {
      "cell_type": "markdown",
      "source": [
        "## Variables"
      ],
      "metadata": {
        "id": "s7z4IX_9l-vc"
      }
    },
    {
      "cell_type": "markdown",
      "source": [
        "### Declaring variables\n",
        "\n",
        "- Python has no command for declaring a variable. A variable is created the moment you first assign a value to it.\n",
        "- Variables do not need to be declared with any particular type, and can even change type after they have been set.\n",
        "- String variables can be declared either by using single or double quotes.\n",
        "- Python allows you to assign values to multiple variables in one line (make sure the number of variables matches the number of values, or else you will get an error).\n",
        "- You can assign the same value to multiple variables in one line.\n",
        "\n"
      ],
      "metadata": {
        "id": "B1wvfs6hlfr2"
      }
    },
    {
      "cell_type": "code",
      "source": [
        "#Creating Variables\n",
        "x = 4       # x is of type int\n",
        "x = \"Sally\" # x is now of type str\n",
        "print(x)\n",
        "\n",
        "#Many Values to Multiple Variables\n",
        "fruit1, fruit2, fruit3 = \"Orange\", \"Banana\", \"Cherry\"\n",
        "print(fruit1)\n",
        "print(fruit2)\n",
        "print(fruit3)\n",
        "\n",
        "#One Value to Multiple Variables\n",
        "fruit1 = fruit2 = fruit3 = \"Orange\"\n",
        "print(fruit1)\n",
        "print(fruit2)\n",
        "print(fruit3)"
      ],
      "metadata": {
        "id": "MT9vl9VjmAse"
      },
      "execution_count": null,
      "outputs": []
    },
    {
      "cell_type": "markdown",
      "source": [
        "### Variable names\n",
        "- A variable name must start with a letter or the underscore character\n",
        "- Variable names are case-sensitive. (age, Age and AGE are three different variables)\n",
        "- A variable name cannot start with a number\n",
        "- A variable name can only contain alpha-numeric characters and underscores (A-z, 0-9, and _ )"
      ],
      "metadata": {
        "id": "dIfyO09emnpf"
      }
    },
    {
      "cell_type": "code",
      "source": [
        "myvar = \"John\"\n",
        "my_var = \"John\"\n",
        "_my_var = \"John\"\n",
        "myVar = \"John\"\n",
        "MYVAR = \"John\"\n",
        "myvar2 = \"John\""
      ],
      "metadata": {
        "id": "vsQYkoFwm4im"
      },
      "execution_count": null,
      "outputs": []
    },
    {
      "cell_type": "markdown",
      "source": [
        "#### Variable naming techniques:\n",
        "\n",
        "- **Camel Case:** Each word, except the first, starts with a capital letter. Ex: myVariableName.\n",
        "- **Pascal Case:** Each word starts with a capital letter. Ex: MyVariableName.\n",
        "- **Snake Case:** Each word is separated by an underscore character. Ex: my_variable_name.\n",
        "\n",
        "\n"
      ],
      "metadata": {
        "id": "Uv4C1lSbnEvE"
      }
    },
    {
      "cell_type": "markdown",
      "source": [
        "### Types of variables (global or local)\n",
        "\n",
        "- Variables that are created _outside_ of a function are known as **global** variables. Global variables can be used everywhere, both inside of functions and outside."
      ],
      "metadata": {
        "id": "SUBm-Emqrfnq"
      }
    },
    {
      "cell_type": "markdown",
      "source": [
        "- If you create a variable with the same name inside a function, this variable will be local, and can only be used inside the function. The global variable with the same name will remain as it was, global and with the original value."
      ],
      "metadata": {
        "id": "Frlw5bTAtS0H"
      }
    },
    {
      "cell_type": "code",
      "source": [
        "adj = \"awesome\"\n",
        "\n",
        "def myfunc():\n",
        "  adj = \"fantastic\"\n",
        "  print(\"Python is \" + adj)\n",
        "\n",
        "myfunc()\n",
        "\n",
        "print(\"Python is \" + adj)"
      ],
      "metadata": {
        "id": "J9JBFE77tGEM"
      },
      "execution_count": null,
      "outputs": []
    },
    {
      "cell_type": "markdown",
      "source": [
        "- To create a global variable inside a function, you can use the global keyword. Also, you can use the global keyword if you want to change a global variable inside a function."
      ],
      "metadata": {
        "id": "NNZuheZeskGk"
      }
    },
    {
      "cell_type": "code",
      "source": [
        "adj = \"awesome\"\n",
        "\n",
        "def myfunc():\n",
        "  #change global variable\n",
        "  global adj\n",
        "  adj = \"fantastic\"\n",
        "\n",
        "  #create a global variable\n",
        "  global greetings \n",
        "  greetings = \"Hey! \"\n",
        "\n",
        "myfunc()\n",
        "\n",
        "print(greetings + \"Python is \" + adj)"
      ],
      "metadata": {
        "id": "66yHotuosVcQ"
      },
      "execution_count": null,
      "outputs": []
    },
    {
      "cell_type": "markdown",
      "source": [
        "## Output (print)"
      ],
      "metadata": {
        "id": "f2UfY9UNpxge"
      }
    },
    {
      "cell_type": "code",
      "source": [
        "print(\"Hello World!\")"
      ],
      "metadata": {
        "id": "MJ4WBeNdqAlI"
      },
      "execution_count": null,
      "outputs": []
    },
    {
      "cell_type": "markdown",
      "source": [
        "### Output Variables\n",
        "\n",
        "- To combine both text and a variable, Python uses the + character.\n",
        "\n"
      ],
      "metadata": {
        "id": "vlVHgunBpxg4"
      }
    },
    {
      "cell_type": "code",
      "source": [
        "#output variables\n",
        "\n",
        "adj = \"awesome\"\n",
        "print(\"Python is \" + adj)"
      ],
      "metadata": {
        "id": "0yyqNlKApxg5"
      },
      "execution_count": null,
      "outputs": []
    },
    {
      "cell_type": "markdown",
      "source": [
        "- If you try to combine a string and a number, Python will give you an error. You need to cast the number to string."
      ],
      "metadata": {
        "id": "MegwzfG6pxg6"
      }
    },
    {
      "cell_type": "code",
      "source": [
        "age = 25\n",
        "my_age = \"My age is \"\n",
        "\n",
        "print(my_age + str(age))"
      ],
      "metadata": {
        "id": "XUSuYtiJpxg6"
      },
      "execution_count": null,
      "outputs": []
    },
    {
      "cell_type": "markdown",
      "source": [
        "## Operators"
      ],
      "metadata": {
        "id": "tk8Yn9Ueiut7"
      }
    },
    {
      "cell_type": "markdown",
      "source": [
        "### Order of operators\n",
        "PEMDAS - Parentheses, Exponents, Multiplication/Division, Addition/Subtraction."
      ],
      "metadata": {
        "id": "1sJMmglXjG-Z"
      }
    },
    {
      "cell_type": "markdown",
      "source": [
        "# Strings\n",
        "---"
      ],
      "metadata": {
        "id": "uRHGYN0Bg96V"
      }
    },
    {
      "cell_type": "markdown",
      "source": [
        "## String Length"
      ],
      "metadata": {
        "id": "nERIwaseDL86"
      }
    },
    {
      "cell_type": "markdown",
      "source": [
        "- To get the length of a string, use the `len()` function."
      ],
      "metadata": {
        "id": "6IWe2Eg8D8SA"
      }
    },
    {
      "cell_type": "code",
      "source": [
        "hello_world = \"Hello World!\"\n",
        "print(len(hello_world))"
      ],
      "metadata": {
        "colab": {
          "base_uri": "https://localhost:8080/"
        },
        "id": "4gXU0ZePDWbd",
        "outputId": "145d2048-bc0c-402b-9798-066d7eec3630"
      },
      "execution_count": null,
      "outputs": [
        {
          "output_type": "stream",
          "name": "stdout",
          "text": [
            "12\n"
          ]
        }
      ]
    },
    {
      "cell_type": "markdown",
      "source": [
        "## Check String"
      ],
      "metadata": {
        "id": "og9LUmoCDvfQ"
      }
    },
    {
      "cell_type": "markdown",
      "source": [
        "- To check if a certain phrase or character is present in a string, we can use the keyword `in`.\n",
        "  - Returns True or False"
      ],
      "metadata": {
        "id": "WnqEIV09D4Pl"
      }
    },
    {
      "cell_type": "code",
      "source": [
        "txt = \"The best things in life are free!\"\n",
        "print(\"free\" in txt) "
      ],
      "metadata": {
        "colab": {
          "base_uri": "https://localhost:8080/"
        },
        "id": "0LUg8cErDxBb",
        "outputId": "a9139487-ad94-48f1-d783-540955a0d360"
      },
      "execution_count": null,
      "outputs": [
        {
          "output_type": "stream",
          "name": "stdout",
          "text": [
            "True\n"
          ]
        }
      ]
    },
    {
      "cell_type": "markdown",
      "source": [
        "- To check if a certain phrase or character is not present in a string, we can use the keyword `not in`.\n",
        "  - Returns True or False"
      ],
      "metadata": {
        "id": "0_Vu5ARLEU9D"
      }
    },
    {
      "cell_type": "code",
      "source": [
        "txt = \"The best things in life are free!\"\n",
        "print(\"expensive\" not in txt)"
      ],
      "metadata": {
        "id": "_V7wDjnQu_If"
      },
      "execution_count": null,
      "outputs": []
    },
    {
      "cell_type": "markdown",
      "source": [
        "## Slicing\n",
        "\n"
      ],
      "metadata": {
        "id": "aMCCIaALgIBN"
      }
    },
    {
      "cell_type": "markdown",
      "source": [
        "You can return a range of characters by using the slice syntax.\n",
        "\n",
        "Specify the start index (included) and the end index (not included), separated by a colon, to return a part of the string.\n",
        "\n"
      ],
      "metadata": {
        "id": "kLO3K4iSvicn"
      }
    },
    {
      "cell_type": "code",
      "execution_count": null,
      "metadata": {
        "id": "EQlnAbnpgFr4"
      },
      "outputs": [],
      "source": [
        "# Get the characters from position 2 to position 5 (not included):\n",
        "hello_world = \"Hello, World!\"\n",
        "print(hello_world[2:5]) #output: llo\n",
        "\n",
        "# Slice From the Start - Get the characters from the start to position 5 (not included):\n",
        "hello_world = \"Hello, World!\"\n",
        "print(hello_world[:5])\n",
        "\n",
        "# Slice To the End - By leaving out the end index, the range will go to the end:\n",
        "hello_world = \"Hello, World!\"\n",
        "print(hello_world[2:])\n",
        "\n",
        "# Negative Indexing - Use negative indexes to start the slice from the end of the string:\n",
        "hello_world = \"Hello, World!\"\n",
        "print(hello_world[-5:-2])\n"
      ]
    },
    {
      "cell_type": "markdown",
      "source": [
        "## Modify Strings\n"
      ],
      "metadata": {
        "id": "Axj2FW3eTaK6"
      }
    },
    {
      "cell_type": "markdown",
      "source": [
        "Python has a set of built-in methods that you can use on strings.\n",
        "- upper()\n",
        "- lower()\n",
        "- strip()\n",
        "- replace()\n",
        "- split()\n",
        "\n"
      ],
      "metadata": {
        "id": "qNrljs0qTaLQ"
      }
    },
    {
      "cell_type": "markdown",
      "source": [
        "### Upper Case - upper()"
      ],
      "metadata": {
        "id": "b_OSyJLDT247"
      }
    },
    {
      "cell_type": "code",
      "execution_count": null,
      "metadata": {
        "colab": {
          "base_uri": "https://localhost:8080/"
        },
        "id": "15jf8PpsTaLQ",
        "outputId": "a8e0ed4d-917c-4a8d-fe8a-94237b0ee0f1"
      },
      "outputs": [
        {
          "output_type": "stream",
          "name": "stdout",
          "text": [
            "HELLO, WORLD!\n"
          ]
        }
      ],
      "source": [
        "# The upper() method returns the string in upper case:\n",
        "hello_world = \"Hello, World!\"\n",
        "print(hello_world.upper())"
      ]
    },
    {
      "cell_type": "markdown",
      "source": [
        "### Lower Case - lower()"
      ],
      "metadata": {
        "id": "Z58edNktUZpC"
      }
    },
    {
      "cell_type": "code",
      "execution_count": null,
      "metadata": {
        "colab": {
          "base_uri": "https://localhost:8080/"
        },
        "outputId": "d599cad2-e586-4bf7-b843-c1e9771c59ed",
        "id": "Jao3vyfkUZpD"
      },
      "outputs": [
        {
          "output_type": "stream",
          "name": "stdout",
          "text": [
            "hello, world!\n"
          ]
        }
      ],
      "source": [
        "# The lower() method returns the string in lower case:\n",
        "hello_world = \"Hello, World!\"\n",
        "print(hello_world.lower())"
      ]
    },
    {
      "cell_type": "markdown",
      "source": [
        "### Remove Whitespace - strip()"
      ],
      "metadata": {
        "id": "VvWnu_PyUmvg"
      }
    },
    {
      "cell_type": "code",
      "execution_count": null,
      "metadata": {
        "colab": {
          "base_uri": "https://localhost:8080/"
        },
        "outputId": "e688c20a-0d42-4fab-e949-d93ca82d8c3f",
        "id": "-6J4lM0jUmvh"
      },
      "outputs": [
        {
          "output_type": "stream",
          "name": "stdout",
          "text": [
            "Hello, World!\n"
          ]
        }
      ],
      "source": [
        "# The strip() method removes any whitespace from the beginning or the end:\n",
        "hello_world = \" Hello, World! \"\n",
        "print(hello_world.strip())"
      ]
    },
    {
      "cell_type": "markdown",
      "source": [
        "### Replace String - replace()"
      ],
      "metadata": {
        "id": "aLp8iVBTU_UT"
      }
    },
    {
      "cell_type": "code",
      "execution_count": null,
      "metadata": {
        "colab": {
          "base_uri": "https://localhost:8080/"
        },
        "outputId": "85ad2853-0815-485c-9d3a-4b1c5ad979a0",
        "id": "gvzr0LkrU_UU"
      },
      "outputs": [
        {
          "output_type": "stream",
          "name": "stdout",
          "text": [
            " Jello, World! \n"
          ]
        }
      ],
      "source": [
        "# The replace() method replaces a string with another string:\n",
        "hello_world = \" Hello, World! \"\n",
        "print(hello_world.replace(\"H\",\"J\"))"
      ]
    },
    {
      "cell_type": "markdown",
      "source": [
        "### Split String - split()"
      ],
      "metadata": {
        "id": "1BQieOJXVUCx"
      }
    },
    {
      "cell_type": "code",
      "execution_count": null,
      "metadata": {
        "colab": {
          "base_uri": "https://localhost:8080/"
        },
        "outputId": "6d2d80ad-5ac5-4247-8101-bcb4106bfa5c",
        "id": "cf6L_CaqVUCy"
      },
      "outputs": [
        {
          "output_type": "stream",
          "name": "stdout",
          "text": [
            "[' Hello', ' World! ']\n"
          ]
        }
      ],
      "source": [
        "# The split() method returns a list where the text between the specified separator becomes the list items:\n",
        "hello_world = \" Hello, World! \"\n",
        "print(hello_world.split(\",\"))"
      ]
    },
    {
      "cell_type": "markdown",
      "source": [
        "## Backslash character: **\\**"
      ],
      "metadata": {
        "id": "VbiRjeSzRCSQ"
      }
    },
    {
      "cell_type": "markdown",
      "source": [
        "The table below summarizes some important uses of the backslash character.\n",
        "\n",
        "\n",
        "| What you type  | What you get  | example | \tprint(example) |\n",
        "|---|---|---|---|\n",
        "| **\\** **'** | **'** | 'What**\\**'s up?' | What's up? |\n",
        "|**\\** **\"** | **\"** | \"That's **\\**\"cool**\\**\"\" | That's \"cool\" |\n",
        "|**\\\\** **\"** | **\\** | \"Look, a mountain: /**\\**\\ \" | Look, a mountain: /\\ |\n",
        "|**\\** **n** |  | \"1**\\n**2 3\" | 1<br>2 3 |\n"
      ],
      "metadata": {
        "id": "hCbGWloYN_0S"
      }
    },
    {
      "cell_type": "markdown",
      "source": [
        "# Collections (lists, tuples)\n",
        "---"
      ],
      "metadata": {
        "id": "LS-yDmC7pH3C"
      }
    },
    {
      "cell_type": "markdown",
      "source": [
        "## Unpack a Collection (unpacking)"
      ],
      "metadata": {
        "id": "v5Ys1JBzpH3L"
      }
    },
    {
      "cell_type": "markdown",
      "source": [
        "- If you have a collection of values in a list, tuple etc. Python allows you to extract the values into variables."
      ],
      "metadata": {
        "id": "4aJyeh_hpdpr"
      }
    },
    {
      "cell_type": "code",
      "execution_count": null,
      "metadata": {
        "id": "Hdqsy6S0pH3L"
      },
      "outputs": [],
      "source": [
        "#list\n",
        "fruits = [\"apple\", \"banana\", \"cherry\"]\n",
        "\n",
        "#unpacking\n",
        "x, y, z = fruits\n",
        "\n",
        "print(x)\n",
        "print(y)\n",
        "print(z)"
      ]
    },
    {
      "cell_type": "markdown",
      "source": [
        "# Python built-in modules\n",
        "---"
      ],
      "metadata": {
        "id": "Lbc7DMu6K3Ve"
      }
    },
    {
      "cell_type": "markdown",
      "source": [
        "## Random Number"
      ],
      "metadata": {
        "id": "cWPoe8IbK8WR"
      }
    },
    {
      "cell_type": "code",
      "source": [
        "import random as r"
      ],
      "metadata": {
        "id": "uTDxrSdsMpjR"
      },
      "execution_count": null,
      "outputs": []
    },
    {
      "cell_type": "markdown",
      "source": [
        "### Method random()"
      ],
      "metadata": {
        "id": "npW7k2nFMzUQ"
      }
    },
    {
      "cell_type": "markdown",
      "source": [
        "- Returns a random float number between 0 and 1\n",
        "\n",
        "**Syntax:**\n",
        "\n",
        "```\n",
        "import random as r\n",
        "r.random()\n",
        "```\n",
        "\n"
      ],
      "metadata": {
        "id": "WoQY3jjlN3mW"
      }
    },
    {
      "cell_type": "code",
      "source": [
        "#Random number \n",
        "random_num = r.random() #output: a float 0.xxxx\n",
        "print(random_num)"
      ],
      "metadata": {
        "colab": {
          "base_uri": "https://localhost:8080/"
        },
        "outputId": "28ed67c3-b26b-4dc4-e70f-909711ef5488",
        "id": "cL6X45D6MzUR"
      },
      "execution_count": null,
      "outputs": [
        {
          "output_type": "stream",
          "name": "stdout",
          "text": [
            "0.49242944381371434\n"
          ]
        }
      ]
    },
    {
      "cell_type": "markdown",
      "source": [
        "### Method randrange()"
      ],
      "metadata": {
        "id": "o8rRo7L7Mb8w"
      }
    },
    {
      "cell_type": "markdown",
      "source": [
        "- Returns a random number between the given range\n",
        "\n",
        "**Syntax**:\n",
        "```\n",
        "import random as r\n",
        "r.randrange(start, stop, step)\n",
        "\n",
        "```"
      ],
      "metadata": {
        "id": "pdpIWbw0NnbL"
      }
    },
    {
      "cell_type": "code",
      "source": [
        "#Random number with range\n",
        "random_num_with_range = r.randrange(1, 100) #output: an int from 1 to 100\n",
        "print(random_num_with_range)"
      ],
      "metadata": {
        "colab": {
          "base_uri": "https://localhost:8080/"
        },
        "id": "JHWi7MPZLD3a",
        "outputId": "e67306cd-39d5-4227-ac4a-5eaf6325f620"
      },
      "execution_count": null,
      "outputs": [
        {
          "output_type": "stream",
          "name": "stdout",
          "text": [
            "2\n"
          ]
        }
      ]
    }
  ]
}